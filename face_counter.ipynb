{
 "cells": [
  {
   "cell_type": "code",
   "execution_count": 1,
   "metadata": {},
   "outputs": [],
   "source": [
    "import cv2"
   ]
  },
  {
   "cell_type": "code",
   "execution_count": 2,
   "metadata": {},
   "outputs": [],
   "source": [
    "cap = cv2.VideoCapture(0)"
   ]
  },
  {
   "cell_type": "code",
   "execution_count": 3,
   "metadata": {},
   "outputs": [],
   "source": [
    "face_model = cv2.CascadeClassifier('haarcascade_frontalface_default.xml')"
   ]
  },
  {
   "cell_type": "code",
   "execution_count": 4,
   "metadata": {},
   "outputs": [],
   "source": [
    "#multi face counter\n",
    "while True:\n",
    "    l=[]\n",
    "\n",
    "    status , photo = cap.read()\n",
    "\n",
    "    face_cor = face_model.detectMultiScale(photo)\n",
    "\n",
    "    if len(face_cor) == 0:\n",
    "        cv2.imshow('hi' , photo)\n",
    "        if cv2.waitKey(10) == 13:\n",
    "            break\n",
    "    else:   \n",
    "        for i in range(len(face_cor)):\n",
    "            x1  = face_cor[i][0]\n",
    "            l.append(x1)\n",
    "            y1 =face_cor[i][1]\n",
    "            x2 = x1 + face_cor[i][2]\n",
    "            y2 = y1 + face_cor[i][3]\n",
    "            cv2.rectangle(photo , (x1,  y1) , (x2, y2), [0,255,0], 3)\n",
    "        length=str(len(face_cor))\n",
    "        photo=cv2.putText(photo, \"count  \"+length,(200,70), cv2.FONT_HERSHEY_SIMPLEX, 2, (0,255,0), 12 , cv2.LINE_AA)\n",
    "    \n",
    "    if len(l)==1 or len(l)==0:\n",
    "        pass\n",
    "    elif len(l)>1:\n",
    "        for i in range(len(l)-1):\n",
    "            if l[i+1]-l[i] > 300 or l[i]-l[i+1] > 200:\n",
    "                photo=cv2.putText(photo,\"YES\",(200,170), cv2.FONT_HERSHEY_SIMPLEX, 2, (0,0,255), 12 , cv2.LINE_AA)\n",
    "                \n",
    "    cv2.imshow('hi' , photo)\n",
    "    if cv2.waitKey(10) == 13:\n",
    "        break\n",
    "                \n",
    "        \n",
    "cv2.destroyAllWindows()\n",
    "cap.release()"
   ]
  },
  {
   "cell_type": "code",
   "execution_count": 5,
   "metadata": {},
   "outputs": [
    {
     "data": {
      "text/plain": [
       "array([[[129, 138, 149],\n",
       "        [129, 138, 149],\n",
       "        [137, 138, 152],\n",
       "        ...,\n",
       "        [195, 190, 191],\n",
       "        [197, 192, 197],\n",
       "        [197, 192, 197]],\n",
       "\n",
       "       [[135, 141, 154],\n",
       "        [134, 140, 153],\n",
       "        [138, 138, 156],\n",
       "        ...,\n",
       "        [196, 190, 199],\n",
       "        [195, 190, 202],\n",
       "        [193, 188, 200]],\n",
       "\n",
       "       [[142, 142, 153],\n",
       "        [141, 141, 152],\n",
       "        [141, 140, 156],\n",
       "        ...,\n",
       "        [200, 190, 200],\n",
       "        [193, 190, 204],\n",
       "        [193, 190, 204]],\n",
       "\n",
       "       ...,\n",
       "\n",
       "       [[151, 155, 155],\n",
       "        [148, 153, 152],\n",
       "        [152, 153, 151],\n",
       "        ...,\n",
       "        [160, 192, 180],\n",
       "        [160, 194, 186],\n",
       "        [160, 194, 186]],\n",
       "\n",
       "       [[152, 154, 152],\n",
       "        [150, 153, 151],\n",
       "        [150, 154, 149],\n",
       "        ...,\n",
       "        [161, 190, 181],\n",
       "        [159, 190, 183],\n",
       "        [159, 190, 183]],\n",
       "\n",
       "       [[148, 155, 145],\n",
       "        [147, 154, 144],\n",
       "        [145, 154, 144],\n",
       "        ...,\n",
       "        [155, 185, 175],\n",
       "        [154, 187, 182],\n",
       "        [152, 185, 180]]], dtype=uint8)"
      ]
     },
     "execution_count": 5,
     "metadata": {},
     "output_type": "execute_result"
    }
   ],
   "source": [
    "cv2.putText(photo, \"count \"+str(len(face_cor)),(1120,70), cv2.FONT_HERSHEY_SIMPLEX,5, (255,0,0), 12 , cv2.LINE_AA)"
   ]
  },
  {
   "cell_type": "code",
   "execution_count": 57,
   "metadata": {},
   "outputs": [
    {
     "data": {
      "text/plain": [
       "[146, 299]"
      ]
     },
     "execution_count": 57,
     "metadata": {},
     "output_type": "execute_result"
    }
   ],
   "source": []
  },
  {
   "cell_type": "code",
   "execution_count": null,
   "metadata": {},
   "outputs": [],
   "source": []
  }
 ],
 "metadata": {
  "kernelspec": {
   "display_name": "Python 3",
   "language": "python",
   "name": "python3"
  },
  "language_info": {
   "codemirror_mode": {
    "name": "ipython",
    "version": 3
   },
   "file_extension": ".py",
   "mimetype": "text/x-python",
   "name": "python",
   "nbconvert_exporter": "python",
   "pygments_lexer": "ipython3",
   "version": "3.7.1"
  }
 },
 "nbformat": 4,
 "nbformat_minor": 4
}
